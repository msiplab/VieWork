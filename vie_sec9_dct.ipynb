{
  "nbformat": 4,
  "nbformat_minor": 0,
  "metadata": {
    "colab": {
      "name": "vie_sec5_linfilt.ipynb",
      "provenance": [],
      "include_colab_link": true
    },
    "kernelspec": {
      "name": "Python 3.7.9 64-bit",
      "display_name": "Python 3.7.9 64-bit",
      "metadata": {
        "interpreter": {
          "hash": "0d852845d0f3963501c42fdf15beb6ee3921823f645b104ff4b59ca9a9a07fad"
        }
      }
    }
  },
  "cells": [
    {
      "cell_type": "markdown",
      "metadata": {
        "id": "view-in-github",
        "colab_type": "text"
      },
      "source": [
        "<a href=\"https://colab.research.google.com/github/shodimaggio/VieWork/blob/master/vie_sec5_linfilt.ipynb\" target=\"_parent\"><img src=\"https://colab.research.google.com/assets/colab-badge.svg\" alt=\"Open In Colab\"/></a>"
      ]
    },
    {
      "cell_type": "markdown",
      "metadata": {
        "id": "41UbR0srAnQP",
        "colab_type": "text"
      },
      "source": [
        "# 線形変換処理\n"
      ]
    },
    {
      "cell_type": "markdown",
      "metadata": {
        "id": "-eLBfidxY0By",
        "colab_type": "text"
      },
      "source": [
        "## 配列の準備\n",
        "数値計算ライブラリ NumPy を利用"
      ]
    },
    {
      "cell_type": "code",
      "metadata": {
        "id": "fVsFL3N3CZ7l",
        "colab_type": "code",
        "outputId": "4a32a840-13b1-4f33-e94e-879616c5ab6d",
        "colab": {
          "base_uri": "https://localhost:8080/",
          "height": 34
        }
      },
      "source": [
        "import numpy as np \n",
        "\n",
        "arrayX = np.matrix([[2,6,2,4],[2,2,2,6],[6,6,4,4],[2,4,4,4]])\n",
        "display(arrayX)"
      ],
      "execution_count": 58,
      "outputs": [
        {
          "output_type": "display_data",
          "data": {
            "text/plain": "matrix([[2, 6, 2, 4],\n        [2, 2, 2, 6],\n        [6, 6, 4, 4],\n        [2, 4, 4, 4]])"
          },
          "metadata": {}
        }
      ]
    },
    {
      "cell_type": "markdown",
      "metadata": {
        "id": "UkB3X0kOZbmo",
        "colab_type": "text"
      },
      "source": [
        "## 離散コサイン変換行列の定義\n",
        "\n",
        "\\begin{array}{l}\n",
        "y[m]=\\sqrt{\\frac{2}{M}} k_{m} \\sum_{n=0}^{N-1} \\cos \\left(\\frac{(2 n+1) m \\pi}{2 M}\\right) x[n],\\, m=0,1, \\cdots, M-1 \\\\\n",
        "x[n]=\\sqrt{\\frac{2}{M}} \\sum_{m=0}^{N-1} k_{m} \\cos \\left(\\frac{(2 n+1) m \\pi}{2 M}\\right) y[m],\\, n=0,1, \\cdots, M-1\n",
        "\\end{array}\n",
        "ただし、\n",
        "\\begin{equation}\n",
        "k_{m}=\\left\\{\\begin{array}{cc}\n",
        "\\frac{1}{\\sqrt{2}} & m=0 \\\\\n",
        "1 & m=1,2, \\cdots, M-1\n",
        "\\end{array}\\right.\n",
        "\\end{equation}\n",
        "\n",
        "### 順変換行列\n"
      ]
    },
    {
      "cell_type": "code",
      "metadata": {
        "id": "6GRggSPVYOzc",
        "colab_type": "code",
        "outputId": "b9cab9d5-8907-4995-917a-93a9b4f64be2",
        "colab": {
          "base_uri": "https://localhost:8080/",
          "height": 286
        }
      },
      "source": [
        "dctSize = 4\n",
        "arrayDct = np.matrix(np.zeros([dctSize,dctSize]))\n",
        "for iCol in range(dctSize):\n",
        "    for iRow in range(dctSize):\n",
        "        k = 1\n",
        "        if iRow == 0:\n",
        "            k = 1/np.sqrt(2)\n",
        "        arrayDct[iRow,iCol] = np.sqrt(2/dctSize)*k*np.cos((2*iCol+1)*iRow*np.pi/(2*dctSize))\n",
        "display(arrayDct)\n"
      ],
      "execution_count": 59,
      "outputs": [
        {
          "output_type": "display_data",
          "data": {
            "text/plain": "matrix([[ 0.5       ,  0.5       ,  0.5       ,  0.5       ],\n        [ 0.65328148,  0.27059805, -0.27059805, -0.65328148],\n        [ 0.5       , -0.5       , -0.5       ,  0.5       ],\n        [ 0.27059805, -0.65328148,  0.65328148, -0.27059805]])"
          },
          "metadata": {}
        }
      ]
    },
    {
      "source": [
        "### 逆変換行列\n",
        "\n",
        "離散コサイン変換(DCT)は正規直交行列のため、逆変換行列は順変換行列の転置で与えられる。\n",
        "\\begin{equation}\n",
        "\\mathbf{C}^{-1}=\\mathbf{C}^T\n",
        "\\end{equation}"
      ],
      "cell_type": "markdown",
      "metadata": {}
    },
    {
      "cell_type": "code",
      "execution_count": 60,
      "metadata": {},
      "outputs": [
        {
          "output_type": "display_data",
          "data": {
            "text/plain": "matrix([[ 0.5       ,  0.65328148,  0.5       ,  0.27059805],\n        [ 0.5       ,  0.27059805, -0.5       , -0.65328148],\n        [ 0.5       , -0.27059805, -0.5       ,  0.65328148],\n        [ 0.5       , -0.65328148,  0.5       , -0.27059805]])"
          },
          "metadata": {}
        }
      ],
      "source": [
        "arrayIdct = arrayDct.T\n",
        "display(arrayIdct)"
      ]
    },
    {
      "source": [
        "## 二次元DCT\n",
        "\\begin{equation}\n",
        "\\mathbf{Y}=\\mathbf{CXC}^T\n",
        "\\end{equation}\n"
      ],
      "cell_type": "markdown",
      "metadata": {}
    },
    {
      "cell_type": "code",
      "execution_count": 61,
      "metadata": {},
      "outputs": [
        {
          "output_type": "display_data",
          "data": {
            "text/plain": "matrix([[ 1.50000000e+01, -1.14805030e+00, -9.99200722e-16,\n         -2.77163860e+00],\n        [-1.08239220e+00, -5.00000000e-01,  5.41196100e-01,\n         -1.79289322e+00],\n        [-1.00000000e+00, -3.82683432e-01, -2.00000000e+00,\n         -9.23879533e-01],\n        [ 2.61312593e+00,  3.20710678e+00, -1.30656296e+00,\n         -5.00000000e-01]])"
          },
          "metadata": {}
        }
      ],
      "source": [
        "arrayY = np.dot(np.dot(arrayDct,arrayX),arrayDct.T)\n",
        "display(arrayY)"
      ]
    },
    {
      "source": [
        "## 二次元逆DCT\n",
        "\\begin{equation}\n",
        "\\mathbf{X}=\\mathbf{C}^{-1}\\mathbf{YC}^{-T}\n",
        "\\end{equation}"
      ],
      "cell_type": "markdown",
      "metadata": {}
    },
    {
      "cell_type": "code",
      "execution_count": 62,
      "metadata": {},
      "outputs": [
        {
          "output_type": "display_data",
          "data": {
            "text/plain": "matrix([[2., 6., 2., 4.],\n        [2., 2., 2., 6.],\n        [6., 6., 4., 4.],\n        [2., 4., 4., 4.]])"
          },
          "metadata": {}
        }
      ],
      "source": [
        "arrayR = np.dot(np.dot(arrayIdct,arrayY),arrayIdct.T)\n",
        "display(arrayR)"
      ]
    }
  ]
}