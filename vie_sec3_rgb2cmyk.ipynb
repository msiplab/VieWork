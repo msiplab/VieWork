{
  "nbformat": 4,
  "nbformat_minor": 0,
  "metadata": {
    "colab": {
      "name": "vie_rgb2cmyk.ipynb",
      "version": "0.3.2",
      "provenance": [],
      "include_colab_link": true
    },
    "kernelspec": {
      "name": "python3",
      "display_name": "Python 3"
    }
  },
  "cells": [
    {
      "cell_type": "markdown",
      "metadata": {
        "id": "view-in-github",
        "colab_type": "text"
      },
      "source": [
        "<a href=\"https://colab.research.google.com/github/shodimaggio/VieWork/blob/master/vie_rgb2cmyk.ipynb\" target=\"_parent\"><img src=\"https://colab.research.google.com/assets/colab-badge.svg\" alt=\"Open In Colab\"/></a>"
      ]
    },
    {
      "cell_type": "markdown",
      "metadata": {
        "id": "WHPG5X6cpw8y",
        "colab_type": "text"
      },
      "source": [
        "# 演習課題（３）－１の計算例\n",
        "\n",
        "RGB色空間から、CMYK色色空間への変換式\n",
        "\n",
        "\\begin{gather}\n",
        "K = \\min(1-R,1-G,1-B)\\\\\n",
        "\\begin{pmatrix}\n",
        "C \\\\\n",
        "M \\\\\n",
        "Y \n",
        "\\end{pmatrix}=\n",
        "\\begin{pmatrix}\n",
        "1 \\\\\n",
        "1 \\\\\n",
        "1 \n",
        "\\end{pmatrix}\n",
        "-\\frac{1}{1-K}\n",
        "\\begin{pmatrix}\n",
        "R \\\\\n",
        "G \\\\\n",
        "B\n",
        "\\end{pmatrix}\n",
        "\\end{gather}"
      ]
    },
    {
      "cell_type": "code",
      "metadata": {
        "id": "LsnwczFMqKXP",
        "colab_type": "code",
        "colab": {
          "base_uri": "https://localhost:8080/",
          "height": 34
        },
        "outputId": "6d0da1c1-900f-4089-f569-b478543ebd20"
      },
      "source": [
        "import math \n",
        "import numpy as np\n",
        "\n",
        "R, G, B = 0.4, 0.6, 0.8\n",
        "\n",
        "K = min(1-R,1-G,1-B)\n",
        "\n",
        "CMY = 1-np.array([R,G,B])/(1-K)\n",
        "\n",
        "print('CMYK = {:4.2f}, {:4.2f}, {:4.2f}, {:4.2f}'.format(CMY[0],CMY[1],CMY[2],K))"
      ],
      "execution_count": 11,
      "outputs": [
        {
          "output_type": "stream",
          "text": [
            "CMYK = 0.50, 0.25, 0.00, 0.20\n"
          ],
          "name": "stdout"
        }
      ]
    }
  ]
}
