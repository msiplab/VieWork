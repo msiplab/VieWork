{
  "nbformat": 4,
  "nbformat_minor": 0,
  "metadata": {
    "colab": {
      "name": "vie_bitrate.ipynb",
      "version": "0.3.2",
      "provenance": [],
      "include_colab_link": true
    },
    "kernelspec": {
      "name": "python3",
      "display_name": "Python 3"
    }
  },
  "cells": [
    {
      "cell_type": "markdown",
      "metadata": {
        "id": "view-in-github",
        "colab_type": "text"
      },
      "source": [
        "<a href=\"https://colab.research.google.com/github/shodimaggio/VieWork/blob/master/vie_bitrate.ipynb\" target=\"_parent\"><img src=\"https://colab.research.google.com/assets/colab-badge.svg\" alt=\"Open In Colab\"/></a>"
      ]
    },
    {
      "cell_type": "markdown",
      "metadata": {
        "id": "Je_YiZtir1ei",
        "colab_type": "text"
      },
      "source": [
        "# 演習課題（３）－２の計算例\n",
        "\n",
        "ビットレートの計算式\n",
        "\n",
        "\\begin{equation}\n",
        "r = \\frac{1}{\\Delta_t}\\times N_1 \\times N_0 \\times (\\ell_Y + \\frac{\\ell_{C_b}}{4}+\\frac{\\ell_{C_r}}{4})\n",
        "\\end{equation}\n",
        "\n",
        "SMTPE296M(1280$\\times$720, 4:2:0, 30P)のパラメータ\n",
        "\n",
        "\n",
        "*   $\\Delta_t=1/30$ [1/s]\n",
        "*   $N_1 = 720$\n",
        "*   $N_2 = 1280$\n",
        "*   $\\ell_Y=\\ell_{C_b}=\\ell_{C_r}=8$ [bits]"
      ]
    },
    {
      "cell_type": "code",
      "metadata": {
        "id": "-ONX-pagryUa",
        "colab_type": "code",
        "colab": {
          "base_uri": "https://localhost:8080/",
          "height": 34
        },
        "outputId": "027aa23e-7c44-4d0a-c3e6-a352692ef41a"
      },
      "source": [
        "delta_t = 1/30\n",
        "N1 = 720\n",
        "N0 = 1280\n",
        "ell = 8\n",
        "\n",
        "r = (1/delta_t)*N1*N0*(ell + ell/4 + ell/4)\n",
        "\n",
        "print('ビットレート r = {:4.2f}'.format(r))"
      ],
      "execution_count": 2,
      "outputs": [
        {
          "output_type": "stream",
          "text": [
            "ビットレート r = 331776000.00\n"
          ],
          "name": "stdout"
        }
      ]
    },
    {
      "cell_type": "markdown",
      "metadata": {
        "id": "8Q6XFhi2r0EE",
        "colab_type": "text"
      },
      "source": [
        ""
      ]
    }
  ]
}
