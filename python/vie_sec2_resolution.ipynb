{
  "nbformat": 4,
  "nbformat_minor": 0,
  "metadata": {
    "colab": {
      "name": "vie_resolution.ipynb",
      "version": "0.3.2",
      "provenance": [],
      "include_colab_link": true
    },
    "kernelspec": {
      "name": "python3",
      "display_name": "Python 3"
    }
  },
  "cells": [
    {
      "cell_type": "markdown",
      "metadata": {
        "id": "view-in-github",
        "colab_type": "text"
      },
      "source": [
        "<a href=\"https://colab.research.google.com/github/shodimaggio/VieWork/blob/master/vie_resolution.ipynb\" target=\"_parent\"><img src=\"https://colab.research.google.com/assets/colab-badge.svg\" alt=\"Open In Colab\"/></a>"
      ]
    },
    {
      "cell_type": "markdown",
      "metadata": {
        "id": "4Drp6kuGOe61",
        "colab_type": "text"
      },
      "source": [
        "# 演習課題（２）－２の計算例\n",
        "\n",
        "中心から上の角度を計算\n",
        "\n",
        "\\begin{equation}\n",
        "  \\phi=\\tan^{-1}\\frac{0.5h}{3.0h}\n",
        "\\end{equation}\n",
        "\n",
        "$\\phi$を2倍して視野角$\\theta$を計算\n",
        "\n",
        "\\begin{equation}\n",
        "  \\theta = 2\\phi\n",
        "\\end{equation}\n",
        "\n",
        "ラジアンを「分」に換算\n",
        "\n",
        "\\begin{equation}\n",
        "  1 \\mathrm{[rad]} = \\frac{180\\times 60}{\\pi} \\mathrm{[arc minute]}\n",
        "\\end{equation}  \n"
      ]
    },
    {
      "cell_type": "code",
      "metadata": {
        "id": "Iqzk6tNeFqVh",
        "colab_type": "code",
        "outputId": "8e448905-9f96-45d2-d80e-df027d6030b3",
        "colab": {
          "base_uri": "https://localhost:8080/",
          "height": 34
        }
      },
      "source": [
        "import math\n",
        "\n",
        "phi = math.atan(0.5/3.0)\n",
        "theta = 2*phi\n",
        "\n",
        "print('theta = {} [分]'.format(theta/math.pi*180*60))"
      ],
      "execution_count": 0,
      "outputs": [
        {
          "output_type": "stream",
          "text": [
            "theta = 1135.4786649630742 [分]\n"
          ],
          "name": "stdout"
        }
      ]
    }
  ]
}
